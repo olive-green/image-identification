{
  "nbformat": 4,
  "nbformat_minor": 0,
  "metadata": {
    "colab": {
      "name": "face-recognition.ipynb",
      "provenance": [],
      "collapsed_sections": [],
      "authorship_tag": "ABX9TyOrhO6WW4TSZv71zZcNhPi3",
      "include_colab_link": true
    },
    "kernelspec": {
      "name": "python3",
      "display_name": "Python 3"
    },
    "language_info": {
      "name": "python"
    },
    "accelerator": "GPU"
  },
  "cells": [
    {
      "cell_type": "markdown",
      "metadata": {
        "id": "view-in-github",
        "colab_type": "text"
      },
      "source": [
        "<a href=\"https://colab.research.google.com/github/olive-green/image-identification/blob/main/face_recognition.ipynb\" target=\"_parent\"><img src=\"https://colab.research.google.com/assets/colab-badge.svg\" alt=\"Open In Colab\"/></a>"
      ]
    },
    {
      "cell_type": "code",
      "source": [
        "pip install face_recognition"
      ],
      "metadata": {
        "colab": {
          "base_uri": "https://localhost:8080/"
        },
        "id": "c3ChnK5BgxGb",
        "outputId": "e1c04e9b-d89e-45f9-9991-f9b477c0864e"
      },
      "execution_count": null,
      "outputs": [
        {
          "output_type": "stream",
          "name": "stdout",
          "text": [
            "Collecting face_recognition\n",
            "  Downloading face_recognition-1.3.0-py2.py3-none-any.whl (15 kB)\n",
            "Requirement already satisfied: Click>=6.0 in /usr/local/lib/python3.7/dist-packages (from face_recognition) (7.1.2)\n",
            "Collecting face-recognition-models>=0.3.0\n",
            "  Downloading face_recognition_models-0.3.0.tar.gz (100.1 MB)\n",
            "\u001b[K     |████████████████████████████████| 100.1 MB 1.2 MB/s \n",
            "\u001b[?25hRequirement already satisfied: dlib>=19.7 in /usr/local/lib/python3.7/dist-packages (from face_recognition) (19.18.0)\n",
            "Requirement already satisfied: Pillow in /usr/local/lib/python3.7/dist-packages (from face_recognition) (7.1.2)\n",
            "Requirement already satisfied: numpy in /usr/local/lib/python3.7/dist-packages (from face_recognition) (1.19.5)\n",
            "Building wheels for collected packages: face-recognition-models\n",
            "  Building wheel for face-recognition-models (setup.py) ... \u001b[?25l\u001b[?25hdone\n",
            "  Created wheel for face-recognition-models: filename=face_recognition_models-0.3.0-py2.py3-none-any.whl size=100566186 sha256=91dbc78f9d77ea057b47606b40ba36dbb52a3ec1f37a2f7f6bca0a91115f162c\n",
            "  Stored in directory: /root/.cache/pip/wheels/d6/81/3c/884bcd5e1c120ff548d57c2ecc9ebf3281c9a6f7c0e7e7947a\n",
            "Successfully built face-recognition-models\n",
            "Installing collected packages: face-recognition-models, face-recognition\n",
            "Successfully installed face-recognition-1.3.0 face-recognition-models-0.3.0\n"
          ]
        }
      ]
    },
    {
      "cell_type": "code",
      "source": [
        "import math\n",
        "from sklearn import neighbors\n",
        "import os\n",
        "import os.path\n",
        "import pickle\n",
        "from PIL import Image,ImageDraw\n",
        "import face_recognition\n",
        "from face_recognition.face_recognition_cli import image_files_in_folder\n",
        "import cv2\n",
        "from datetime import datetime"
      ],
      "metadata": {
        "id": "Gh3TW7_qSRQf"
      },
      "execution_count": null,
      "outputs": []
    },
    {
      "cell_type": "code",
      "source": [
        "ALLOWED_EXTENSIONS = {'png', 'jpeg','jpg'}"
      ],
      "metadata": {
        "id": "EF1fHDNhTLFy"
      },
      "execution_count": null,
      "outputs": []
    },
    {
      "cell_type": "code",
      "source": [
        "def train(train_dir, model_save_path=None, n_neighbors=None, knn_algo='ball_tree', verbose=False):\n",
        "    \"\"\"\n",
        "    Trains a k-nearest neighbors classifier for face recognition.\n",
        "    :param train_dir: directory that contains a sub-directory for each known person, with its name.\n",
        "     (View in source code to see train_dir example tree structure)\n",
        "     Structure:\n",
        "        <train_dir>/\n",
        "        ├── <person1>/\n",
        "        │   ├── <somename1>.jpeg\n",
        "        │   ├── <somename2>.jpeg\n",
        "        │   ├── ...\n",
        "        ├── <person2>/\n",
        "        │   ├── <somename1>.jpeg\n",
        "        │   └── <somename2>.jpeg\n",
        "        └── ...\n",
        "    :param model_save_path: (optional) path to save model on disk\n",
        "    :param n_neighbors: (optional) number of neighbors to weigh in classification. Chosen automatically if not specified\n",
        "    :param knn_algo: (optional) underlying data structure to support knn.default is ball_tree\n",
        "    :param verbose: verbosity of training\n",
        "    :return: returns knn classifier that was trained on the given data.\n",
        "    \"\"\"\n",
        "    X = []\n",
        "    y = []\n",
        "\n",
        "    # Loop through each person in the training set\n",
        "    for class_dir in os.listdir(train_dir):\n",
        "        if not os.path.isdir(os.path.join(train_dir, class_dir)):\n",
        "            continue\n",
        "\n",
        "        # Loop through each training image for the current person\n",
        "        for img_path in image_files_in_folder(os.path.join(train_dir, class_dir)):\n",
        "            print(img_path)\n",
        "            image = face_recognition.load_image_file(img_path)\n",
        "            face_bounding_boxes = face_recognition.face_locations(image)\n",
        "\n",
        "            if len(face_bounding_boxes) != 1:\n",
        "                # If there are no people (or too many people) in a training image, skip the image.\n",
        "                if verbose:\n",
        "                    print(\"Image {} not suitable for training: {}\".format(img_path, \"Didn't find a face\" if len(face_bounding_boxes) < 1 else \"Found more than one face\"))\n",
        "            else:\n",
        "                # Add face encoding for current image to the training set\n",
        "                X.append(face_recognition.face_encodings(image, known_face_locations=face_bounding_boxes)[0])\n",
        "                y.append(class_dir)\n",
        "\n",
        "    # Determine how many neighbors to use for weighting in the KNN classifier\n",
        "    if n_neighbors is None:\n",
        "        n_neighbors = int(round(math.sqrt(len(X))))\n",
        "        if verbose:\n",
        "            print(\"Chose n_neighbors automatically:\", n_neighbors)\n",
        "\n",
        "    # Create and train the KNN classifier\n",
        "    knn_clf = neighbors.KNeighborsClassifier(n_neighbors=n_neighbors, algorithm=knn_algo, weights='distance')\n",
        "    knn_clf.fit(X, y)\n",
        "\n",
        "    # Save the trained KNN classifier\n",
        "    if model_save_path is not None:\n",
        "        with open(model_save_path, 'wb') as f:\n",
        "            pickle.dump(knn_clf, f)\n",
        "\n",
        "    return knn_clf"
      ],
      "metadata": {
        "id": "lvhSBSPDTPWs"
      },
      "execution_count": null,
      "outputs": []
    },
    {
      "cell_type": "code",
      "source": [
        "def predict(X_img_path, knn_clf=None, model_path=None, distance_threshold=0.45):\n",
        "    \"\"\"\n",
        "    Recognizes faces in given image using a trained KNN classifier\n",
        "    :param X_img_path: path to image to be recognized\n",
        "    :param knn_clf: (optional) a knn classifier object. if not specified, model_save_path must be specified.\n",
        "    :param model_path: (optional) path to a pickled knn classifier. if not specified, model_save_path must be knn_clf.\n",
        "    :param distance_threshold: (optional) distance threshold for face classification. the larger it is, the more chance\n",
        "           of mis-classifying an unknown person as a known one.\n",
        "    :return: a list of names and face locations for the recognized faces in the image: [(name, bounding box), ...].\n",
        "        For faces of unrecognized persons, the name 'unknown' will be returned.\n",
        "    \"\"\"\n",
        "    if not os.path.isfile(X_img_path) or os.path.splitext(X_img_path)[1][1:] not in ALLOWED_EXTENSIONS:\n",
        "        raise Exception(\"Invalid image path: {}\".format(X_img_path))\n",
        "\n",
        "    if knn_clf is None and model_path is None:\n",
        "        raise Exception(\"Must supply knn classifier either thourgh knn_clf or model_path\")\n",
        "\n",
        "    # Load a trained KNN model (if one was passed in)\n",
        "    if knn_clf is None:\n",
        "        with open(model_path, 'rb') as f:\n",
        "            knn_clf = pickle.load(f)\n",
        "\n",
        "    # Load image file and find face locations\n",
        "    X_img = face_recognition.load_image_file(X_img_path)\n",
        "    X_face_locations = face_recognition.face_locations(X_img)\n",
        "\n",
        "    # If no faces are found in the image, return an empty result.\n",
        "    if len(X_face_locations) == 0:\n",
        "        return []\n",
        "\n",
        "    # Find encodings for faces in the test iamge\n",
        "    faces_encodings = face_recognition.face_encodings(X_img, known_face_locations=X_face_locations)\n",
        "\n",
        "    # Use the KNN model to find the best matches for the test face\n",
        "    closest_distances = knn_clf.kneighbors(faces_encodings, n_neighbors=1)\n",
        "    are_matches = [closest_distances[0][i][0] <= distance_threshold for i in range(len(X_face_locations))]\n",
        "\n",
        "    # Predict classes and remove classifications that aren't within the threshold\n",
        "    return [(pred, loc) if rec else (\"unknown\",loc) for pred, loc, rec in zip(knn_clf.predict(faces_encodings), X_face_locations, are_matches)]\n",
        "\n"
      ],
      "metadata": {
        "id": "NSjA92RLVJ6u"
      },
      "execution_count": null,
      "outputs": []
    },
    {
      "cell_type": "code",
      "source": [
        "def show_prediction_labels_on_image(img_path, predictions,output_path):\n",
        "    \"\"\"\n",
        "    Shows the face recognition results visually.\n",
        "    :param img_path: path to image to be recognized\n",
        "    :param predictions: results of the predict function\n",
        "    :return:\n",
        "    \"\"\"\n",
        "    pil_image = Image.open(img_path).convert(\"RGB\")\n",
        "    draw = ImageDraw.Draw(pil_image)\n",
        "\n",
        "    for name, (top, right, bottom, left) in predictions:\n",
        "        # Draw a box around the face using the Pillow module\n",
        "        draw.rectangle(((left, top), (right, bottom)), outline=(0, 0, 255))\n",
        "\n",
        "        # There's a bug in Pillow where it blows up with non-UTF-8 text\n",
        "        # when using the default bitmap font\n",
        "        name = name.encode(\"UTF-8\")\n",
        "\n",
        "        # Draw a label with a name below the face\n",
        "        text_width, text_height = draw.textsize(name)\n",
        "        draw.rectangle(((left, bottom - text_height - 10), (right, bottom)), fill=(0, 0, 255), outline=(0, 0, 255))\n",
        "        draw.text((left + 6, bottom - text_height - 5), name, fill=(255, 255, 255, 255))\n",
        "\n",
        "    # Remove the drawing library from memory as per the Pillow docs\n",
        "    del draw\n",
        "\n",
        "    # Display the resulting image\n",
        "    pil_image.save(output_path)\n",
        "    "
      ],
      "metadata": {
        "id": "wYZkwobCVS6L"
      },
      "execution_count": null,
      "outputs": []
    },
    {
      "cell_type": "code",
      "source": [
        "def attendance(name):\n",
        "  with open(\"attendance.csv\",\"r+\") as f:\n",
        "    myDataList= f.readlines()\n",
        "    nameList=[]\n",
        "    \n",
        "    for line in myDataList:\n",
        "      entry=line.split(\",\")\n",
        "      # nameList[entry[0]]=entry[3]\n",
        "      nameList.append(entry[0])\n",
        "\n",
        "    if name not in nameList:\n",
        "      # if(name==\"pankaj\" and nameList[name]==\"Absent\\n\"):\n",
        "      #   nameList[name]=\"Present\\n\"\n",
        "        time_now=datetime.now()\n",
        "        timeStr=time_now.strftime(\"%H:%M:%S\")\n",
        "        dateStr=time_now.strftime(\"%d:%m:%Y\")\n",
        "        f.writelines(f'{name},{timeStr},{dateStr},\"Present\\n\"')\n",
        "\n",
        "\n",
        "    print(nameList)\n",
        "# attendance(name)"
      ],
      "metadata": {
        "id": "VxKvhTqmEG4P"
      },
      "execution_count": null,
      "outputs": []
    },
    {
      "cell_type": "code",
      "source": [
        "if __name__ == \"__main__\":\n",
        "    # STEP 1: Train the KNN classifier and save it to disk\n",
        "    # Once the model is trained and saved, you can skip this step next time.\n",
        "    print(\"Training KNN classifier...\")\n",
        "    classifier = train(\"dataset\", model_save_path=\"trained_knn_model.clf\", n_neighbors=2)\n",
        "    print(\"Training complete!\")\n",
        "\n",
        "    # STEP 2: Using the trained classifier, make predictions for unknown images\n",
        "    for image_file in os.listdir(\"test\"):\n",
        "        full_file_path = os.path.join(\"test\", image_file)\n",
        "\n",
        "        # this code is only for google colab\n",
        "        if(format(image_file)==\".ipynb_checkpoints\"):\n",
        "            continue\n",
        "        print(\"Looking for faces in {}\".format(image_file))\n",
        "\n",
        "        # Find all people in the image using a trained classifier model\n",
        "        # Note: You can pass in either a classifier file name or a classifier model instance\n",
        "        predictions = predict(full_file_path, model_path=\"trained_knn_model.clf\")\n",
        "        # print(predictions)\n",
        "\n",
        "        # Print results on the console\n",
        "        for name, (top, right, bottom, left) in predictions:\n",
        "            print(\"- Found {} at ({}, {})\".format(name, left, top))\n",
        "            # attendance(name)\n",
        "\n",
        "\n",
        "        # Display results overlaid on an image\n",
        "        show_prediction_labels_on_image(os.path.join(\"test\", image_file), predictions,\"output.jpg\")\n"
      ],
      "metadata": {
        "colab": {
          "base_uri": "https://localhost:8080/"
        },
        "id": "AVba_Gn-VoRS",
        "outputId": "7ecd46f7-2ac9-4bb8-c0e5-75d7960e04dc"
      },
      "execution_count": null,
      "outputs": [
        {
          "output_type": "stream",
          "name": "stdout",
          "text": [
            "Training KNN classifier...\n",
            "dataset/khushi/khushi3.jpeg\n",
            "dataset/khushi/khushi2.jpeg\n",
            "dataset/khushi/khushi5.jpeg\n",
            "dataset/khushi/khushi4.jpeg\n",
            "dataset/khushi/khushi1.jpeg\n",
            "dataset/pankaj/pankaj3.jpg\n",
            "dataset/pankaj/pankaj5.jpg\n",
            "dataset/pankaj/pankaj4.jpg\n",
            "dataset/pankaj/pankaj6.jpg\n",
            "dataset/ashu/ashu3.jpeg\n",
            "dataset/ashu/ashu1.jpeg\n",
            "dataset/ashu/ashu2.jpeg\n",
            "dataset/ashu/ashu4.jpeg\n",
            "Training complete!\n",
            "Looking for faces in 796428B3-E22F-4466-A5A3-4203646297DF.jpg\n",
            "- Found pankaj at (283, 263)\n",
            "- Found khushi at (513, 390)\n",
            "- Found unknown at (885, 316)\n"
          ]
        }
      ]
    },
    {
      "cell_type": "code",
      "source": [
        ""
      ],
      "metadata": {
        "id": "K39UrFD9O9Iu"
      },
      "execution_count": null,
      "outputs": []
    }
  ]
}